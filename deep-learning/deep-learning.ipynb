{
 "cells": [
  {
   "cell_type": "markdown",
   "metadata": {},
   "source": [
    "Based on Udacity Deep Learning course"
   ]
  },
  {
   "cell_type": "markdown",
   "metadata": {},
   "source": [
    "# Introduction to Deep Learning"
   ]
  },
  {
   "cell_type": "markdown",
   "metadata": {},
   "source": [
    "## Basic Logistic Classifier"
   ]
  },
  {
   "cell_type": "markdown",
   "metadata": {},
   "source": [
    "### Softmax Function\n",
    "\n",
    "<center>$S_{y_i} = \\frac{e^{y_i}}{\\sum_{j}^{}e^{y_j}}$</center>\n",
    "\n",
    "**Softmax** or **Normalized Exponential Function** is used to represent probabilistic distribution of K-dimensional vector that sums up to 1."
   ]
  },
  {
   "cell_type": "code",
   "execution_count": 3,
   "metadata": {},
   "outputs": [
    {
     "name": "stdout",
     "output_type": "stream",
     "text": [
      "[0.8360188  0.11314284 0.05083836]\n"
     ]
    },
    {
     "data": {
      "image/png": "[encoded data removed]",
      "text/plain": [
       "<Figure size 432x288 with 1 Axes>"
      ]
     },
     "metadata": {},
     "output_type": "display_data"
    }
   ],
   "source": [
    "\"\"\"Softmax.\"\"\"\n",
    "\n",
    "scores = [3.0, 1.0, 0.2]\n",
    "\n",
    "import numpy as np\n",
    "\n",
    "def softmax(x):\n",
    "    return np.exp(x) / np.sum(np.exp(x), axis=0)\n",
    "\n",
    "print(softmax(scores))\n",
    "\n",
    "# Plot softmax curves\n",
    "import matplotlib.pyplot as plt\n",
    "x = np.arange(-2.0, 6.0, 0.1)\n",
    "scores = np.vstack([x, np.ones_like(x), 0.2 * np.ones_like(x)])\n",
    "\n",
    "plt.plot(x, softmax(scores).T, linewidth=2)\n",
    "plt.show()"
   ]
  },
  {
   "cell_type": "markdown",
   "metadata": {},
   "source": [
    "### One-Hot Encoding\n",
    "\n",
    "Ones and Zeros only.\n",
    "\n",
    "Might increase accuracy, but highly increase computing costs (all those zeros) when the number of feature in the category increases"
   ]
  },
  {
   "cell_type": "markdown",
   "metadata": {},
   "source": [
    "### Cross Entropy\n",
    "\n",
    "<center>$D(S,L) = - \\sum_{i}L_{i}\\log(S_{i})$</center>\n",
    "\n",
    "S = Softmax Distribution\n",
    "\n",
    "L = One-Hot Encoding Label)"
   ]
  },
  {
   "cell_type": "markdown",
   "metadata": {},
   "source": [
    "### Training Loss\n",
    "\n",
    "<center>$loss = \\frac{1}{N}\\sum_{i}D(S(wx_{i} + b), L_{i})$</center>\n",
    "\n",
    "Training loss is the average cross-entropy, and is defined by the value of **w** (weights) and **b** (biases). Since we want the least amount of loss, we need to minimize the value by finding the optimal w and b."
   ]
  },
  {
   "cell_type": "markdown",
   "metadata": {},
   "source": [
    "### Gradient Descent\n",
    "\n",
    "Gradient Descent is used to find the optimal values of w and b, but it is not very effective if the dimension of data is very large."
   ]
  },
  {
   "cell_type": "markdown",
   "metadata": {},
   "source": [
    "### The 30 Example Rule\n",
    "\n",
    "If a change affects at least 30 data to be classified correctly, then it could be classified as a meaningful change."
   ]
  },
  {
   "cell_type": "markdown",
   "metadata": {},
   "source": [
    "## Deep Neural Network"
   ]
  },
  {
   "cell_type": "markdown",
   "metadata": {},
   "source": [
    "### Activation Function\n",
    "\n",
    "Activation function is an important feature in a neural network. It decides when a neuron should be activated (respond or ignore the given information). Activation function is the **non-linear transformation** that is done to the input signal. The transformed output is then sent to the next layer of neurons as input.\n",
    "\n",
    "<center>$Y = Activation(\\Sigma(weight * input) + bias)$</center>\n",
    "\n",
    "A neural network **without** an activation function is basically a **linear regression** model. A linear model simply could not solve more complex tasks that a non-linear model could."
   ]
  },
  {
   "cell_type": "markdown",
   "metadata": {},
   "source": [
    "#### Binary Step\n",
    "\n",
    "A threshold-based classifier, if the input value is above a given threshold, then the neuron is activated, else it will be deactivated.\n",
    "\n",
    "<center> $f(x) = 1, x >= 0$ </center>\n",
    "\n",
    "Unfortunately, it is only applicable for a **binary classifier**. The step function is not really useful for multi-class classifier, since the gradient is 0. During back-propagation, the gradient of the activation function is used in error calculations, so a gradient of 0 is not really useful at all."
   ]
  },
  {
   "cell_type": "markdown",
   "metadata": {},
   "source": [
    "#### Linear Function\n",
    "\n",
    "<center>$f(x) = ax + b$</center>\n",
    "\n",
    "A basic linear equation that causes the activation to be proportional to the input. For multi-class classifier, we can simply choose the one with the highest value.\n",
    "\n",
    "<center>$f'(x) = a$</center>\n",
    "\n",
    "However, the derivative of a linear function is constant; it is independent of the input value $x$. This causes a problem during back-propagation since the gradient is pretty much the same and we did not actually improve our errors."
   ]
  },
  {
   "cell_type": "markdown",
   "metadata": {},
   "source": [
    "#### Sigmoid\n",
    "\n",
    "<center>$f(x) = \\frac{1}{1 + e^{-x}}$</center>\n",
    "\n",
    "A sigmoid is a smooth function that is continuously differentiable. The value ranges between 0 to 1, with high gradient between -3 and 3. This means small change in range (-3,3) will cause large changes in the output value.\n",
    "\n",
    "The function essentially tries to push Y values toward the extremes, and that is good for a classifier."
   ]
  },
  {
   "cell_type": "markdown",
   "metadata": {},
   "source": [
    "#### Tanh\n",
    "\n",
    "<center>$f(x) = \\frac{2}{1 + e^{-2x}}-1$</center>\n",
    "\n",
    "A tanh is very similar to the sigmoid function but is symmetric over the origin point. The value ranges between 0 to 1, with high gradient between -2 and 2.\n",
    "\n",
    "The function has steeper gradient compared to the sigmoid function. Choosing between sigmoid and tanh depends on the gradient requirement in the problem statement."
   ]
  },
  {
   "cell_type": "markdown",
   "metadata": {},
   "source": [
    "#### Rectified Linear Unit (ReLU)\n",
    "\n",
    "<center>$f(x) = max(0,x)$</center>\n",
    "\n",
    "ReLU is one of the most widely used activation function today. It is non-linear, which means back-propagation is viable. Furthermore, ReLU does not activate all neurons at the same time, negative input will convert to zero and the neuron does not get activated. This means only a few neurons are activated, making the network sparse and faster for computation.\n",
    "\n",
    "Unfortunately, ReLU could create dead neurons which never get activated because the gradient on the negative side of the graph is 0."
   ]
  },
  {
   "cell_type": "markdown",
   "metadata": {},
   "source": [
    "#### Leaky ReLU\n",
    "\n",
    "<center>$ f(x) = ax, x < 0 $</center>\n",
    "\n",
    "<center>$ f(x) = x, x \\geqslant 0 $</center>\n",
    "\n",
    "An improved version of ReLU, where the horizontal line of 0 for negative values is replaced with a non-horizontal line with a non-zero gradient. This solves the dead neurons problem that a traditional ReLU has."
   ]
  },
  {
   "cell_type": "markdown",
   "metadata": {},
   "source": [
    "#### Softmax\n",
    "\n",
    "<center>$S_{y_i} = \\frac{e^{y_i}}{\\sum_{j}^{}e^{y_j}}$</center>\n",
    "\n",
    "Softmax is a type of sigmoid function that is able to handle **more than two classes**. The softmax function creates probabilities for each class based on the input value. It is ideally used in the output layer of the classifier where we need to get the probabilities to define the class of each input."
   ]
  },
  {
   "cell_type": "markdown",
   "metadata": {},
   "source": [
    "### Choosing the Right Activation Function\n",
    "\n",
    "- Sigmoid and Tanh functions are sometimes avoided due to **vanishing gradient problem**\n",
    "- ReLU and its derivatives are often used in most cases\n",
    "- Leaky ReLU eliminates dead neurons problem that regular ReLU has\n",
    "- ReLU should **only be used in hidden layers**"
   ]
  },
  {
   "cell_type": "markdown",
   "metadata": {},
   "source": [
    "## Feed Forward and Back Propagation"
   ]
  },
  {
   "cell_type": "markdown",
   "metadata": {},
   "source": [
    "### Feed Forward\n",
    "\n",
    "<center>$v = \\displaystyle\\sum_{i}input_{i}*weight_{i}$</center>\n",
    "\n",
    "<center>$y = \\varphi(v)$</center>\n",
    "\n",
    "With $\\varphi$ as the activation function, y is the output of each node, which is also the input for nodes in the next layer."
   ]
  },
  {
   "cell_type": "markdown",
   "metadata": {},
   "source": [
    "### Back Propagation\n",
    "\n",
    "**Local gradient for output unit**\n",
    "\n",
    "<center>$\\delta_{k} = o_{k}(1-o_{k})(t_{k} - o_{k})$</center>\n",
    "\n",
    "Where $o$ denotes _output value_, and $t$ denotes _target value_.\n",
    "\n",
    "**Local gradient for hidden unit**\n",
    "\n",
    "<center>$\\delta_{h} = o_{h}(1-o_{h})(\\displaystyle\\sum_{k \\epsilon nextlayer}w_{h,k}\\delta_{k})$</center>"
   ]
  },
  {
   "cell_type": "markdown",
   "metadata": {},
   "source": [
    "### Update Weight with momentum\n",
    "\n",
    "<center>$w(n+1) = w(n) + \\alpha * w(n-1) + \\eta * \\delta(n) * y$</center>\n",
    "\n",
    "Where $\\alpha$ denotes the momentum and $\\eta$ denotes the learning rate.\n",
    "\n",
    "Don't forget to update weight for **bias**! (Same formula, replace $w$ with $b$)"
   ]
  },
  {
   "cell_type": "markdown",
   "metadata": {},
   "source": [
    "## Weight Initialization"
   ]
  },
  {
   "cell_type": "markdown",
   "metadata": {},
   "source": [
    "There are a number of ways for initializing the weights in a neural network:\n",
    "- Set all weights to 0\n",
    "- Set all weights by drawing from standard normal distribution with mean=0 and variance=1\n",
    "\n",
    "Setting all the weights to 0 basically turns the model to a **linear model** because all the weights will be the same values in the iterations.\n",
    "\n",
    "<center>$ W^{[l]} = np.random.randn(size^{[l]}, size^{[l-1]})$</center>\n",
    "\n",
    "<center>Python's implementation using numpy, where $size^{[l]}$ represents the number of nodes in layer $l$</center>\n",
    "\n",
    "Drawing from standard normal distribution is obviously better for a deep network. However, using that particular method would introduce 2 issues:\n",
    "- **Vanishing Gradients** -- where the gradient will become smaller and smaller at every iteration, preventing the weights from updating their values.\n",
    "- **Exploding Gradients** -- the opposite of vanishing gradients, where the gradient gets bigger along the layers in an iteration, this may cause the model to oscillate around the minima and fail to converge."
   ]
  },
  {
   "cell_type": "markdown",
   "metadata": {},
   "source": [
    "### He\n",
    "\n",
    "<center> $\\sqrt{\\frac{2}{size^{[l-1]}}}$ </center>\n",
    "\n",
    "Commonly used for ReLU, the drawn values from standard normal distribution is multiplied by the expression above. While this does not completely remove the vanishing and exploding gradient issues, it helps to mitigate them."
   ]
  },
  {
   "cell_type": "markdown",
   "metadata": {},
   "source": [
    "### Xavier Glorot\n",
    "\n",
    "<center> $\\sqrt{\\frac{1}{size^{[l-1]}}}$ </center>\n",
    "\n",
    "Commonly used for Tanh, similar to He but the numerator is 1 instead of 2."
   ]
  },
  {
   "cell_type": "markdown",
   "metadata": {},
   "source": [
    "##  Regularization"
   ]
  },
  {
   "cell_type": "markdown",
   "metadata": {},
   "source": [
    "### Dropout\n",
    "\n",
    "Dropout basically forces all neurons in a layer to learn by randomly deactivating some of them in every iteration. This could help prevent overfitting as, hopefully, every neurons in a layer learn the same \"concept\"."
   ]
  },
  {
   "cell_type": "markdown",
   "metadata": {},
   "source": [
    "## Optimizers\n",
    "\n",
    "- $w$ weight\n",
    "- $L$ loss function\n",
    "- $\\alpha$ learning rate\n",
    "- $v$ momentum\n",
    "- $\\mu$ momentum rate\n",
    "- $m$ moment\n",
    "- $g$ second order moment\n",
    "- $\\gamma$ decay rate"
   ]
  },
  {
   "cell_type": "markdown",
   "metadata": {},
   "source": [
    "### Stochastic Gradient Descent\n",
    "\n",
    "Generate an _estimate_ of training loss based on **random** subset of data. This would minimize the cost of each iteration, since only a subset of data is processed. However, if the picked subset is not random enough, SGD might fail because the estimation is not general enough.\n",
    "\n",
    "<center>$w_{t+1} = w_{t} - \\alpha \\delta L(w_{t})$</center>\n",
    "\n",
    "SGD takes much smaller steps in each iteration and does more iteration than usual gradient descent. In the end, though, SGD is much more efficient and scales well with both data and model size.\n",
    "\n",
    "Tips to improve SGD:\n",
    "- **Inputs** should have equal (small) variance with mean = 0.\n",
    "- **Initial Weights** should be **random**, have equal (small variance) and mean = 0.\n",
    "\n",
    "#### SGD + Momentum\n",
    "\n",
    "<center>$v_{t+1} = \\mu v_{t} - \\alpha \\delta L(w_{t})$</center>\n",
    "\n",
    "<center>$w_{t+1} = w_{t} + v_{t+1}$</center>\n",
    "\n",
    "SGD takes very small steps toward the minimum loss function, and using **momentum** could help it converges faster. Momentum keeps track of previous changes ($\\Delta w$)\n",
    "\n",
    "Just like the momentum in classical physics, momentum helps accelerate the gradient at the right direction. This reduces the amount of oscillation and also helps in escaping local minima.\n",
    "\n",
    "#### SGD + Learning Rate Decay\n",
    "\n",
    "The steps taken in SGD should gradually be smaller to be more accurate. To do that, a learning rate decay is needed. There are a lot of decay algorithms out there, such as exponential decay algorithm. Defining the best decay algorithm is a whole new research area, but generally, the learning rate should decrease as the SGD gets closer to the minima.\n",
    "\n",
    "P.S.: A higher learning rate does not necessarily mean a better end-result (smaller loss)"
   ]
  },
  {
   "cell_type": "markdown",
   "metadata": {},
   "source": [
    "### AdaGrad\n",
    "\n",
    "Scales learning rate according to the history of gradients by dividing current gradient in update rule by the sum of previous gradients.\n",
    "\n",
    "<center> $g_{t+1} = g_{t} + \\delta L(w_{t})^2$ </center>\n",
    "\n",
    "<center>$w_{t+1} = w_{t} - \\frac{\\alpha \\delta L(w_{t})^2}{\\sqrt{g_{t+1}} + \\epsilon}$</center>\n",
    "\n",
    "However, using AdaGrad could lead to a problem where the accumulated gradient will become very large and the learning rate becomes very small, causing the model to effectively stop learning."
   ]
  },
  {
   "cell_type": "markdown",
   "metadata": {},
   "source": [
    "### RMSProp\n",
    "\n",
    "Root Mean Square Propagation tries to overcome the accumulated gradient problem in AdaGrad by applying a decay rate $\\gamma$. The term $g$ (second order moment) is calculated by exponentially decaying average and not the sum of gradients.\n",
    "\n",
    "\n",
    "Calculating first order moment,\n",
    "\n",
    "<center> $m_{t+1} = \\gamma m_{t} + (1-\\gamma)\\delta L(w_{t})$ </center>\n",
    "\n",
    "\n",
    "Calculating second order moment,\n",
    "\n",
    "<center> $g_{t+1} = \\gamma g_{t} + (1-\\gamma)\\delta L(w_{t})^2$ </center>\n",
    "\n",
    "\n",
    "Calculating momentum,\n",
    "\n",
    "<center> $v_{t+1} = \\mu v_{t} - \\frac{\\alpha \\delta L(w_{t})}{\\sqrt{g_{t+1} - m_{t+1}^{2} + \\epsilon}} $ </center>\n",
    "\n",
    "Updating weight,\n",
    "\n",
    "<center> $w_{t+1} = w_{t} + v_{t+1}$ </center>"
   ]
  },
  {
   "cell_type": "markdown",
   "metadata": {},
   "source": [
    "### Adam\n",
    "\n",
    "Combines AdaGrad and RMSProp, uses accumulated gradient but both the first order moment $m$ and the second order moment $g$ decay over time.\n",
    "\n",
    "Calculating first order moment,\n",
    "\n",
    "<center> $\\hat{m}_{t+1} = \\frac{\\gamma_{1}m_{t} + (1-\\gamma_{1})\\bigtriangledown L(w_{t})}{1 - \\gamma_{1}^{t+1}}$ </center>\n",
    "\n",
    "\n",
    "Calculating second order moment,\n",
    "\n",
    "<center> $\\hat{g}_{t+1} = \\frac{\\gamma_{2}g_{t} + (1-\\gamma_{2})\\bigtriangledown L(w_{t})^{2}}{1 - \\gamma_{2}^{t+1}}$ </center>\n",
    "\n",
    "<center> $w_{t+1} = w_{t} - \\frac{\\alpha \\hat{m}_{t+1}}{\\sqrt{\\hat{g}_{t+1}} + \\epsilon}$</center>"
   ]
  }
 ],
 "metadata": {
  "kernelspec": {
   "display_name": "Python 3",
   "language": "python",
   "name": "python3"
  },
  "language_info": {
   "codemirror_mode": {
    "name": "ipython",
    "version": 3
   },
   "file_extension": ".py",
   "mimetype": "text/x-python",
   "name": "python",
   "nbconvert_exporter": "python",
   "pygments_lexer": "ipython3",
   "version": "3.5.2"
  }
 },
 "nbformat": 4,
 "nbformat_minor": 2
}
