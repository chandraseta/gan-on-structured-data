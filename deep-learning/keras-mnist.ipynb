{
 "cells": [
  {
   "cell_type": "markdown",
   "metadata": {},
   "source": [
    "# MNIST with Keras"
   ]
  },
  {
   "cell_type": "markdown",
   "metadata": {},
   "source": [
    "## Import Data"
   ]
  },
  {
   "cell_type": "code",
   "execution_count": 1,
   "metadata": {},
   "outputs": [
    {
     "name": "stderr",
     "output_type": "stream",
     "text": [
      "Using TensorFlow backend.\n"
     ]
    }
   ],
   "source": [
    "from keras.datasets import mnist\n",
    "\n",
    "(x_train, y_train), (x_test, y_test) = mnist.load_data()"
   ]
  },
  {
   "cell_type": "markdown",
   "metadata": {},
   "source": [
    "- **x_train, x_test**: array of grayscale image data, shape (num_samples, 28, 28)\n",
    "- **y_train, y_test**: array of digit labels int[0..9] shape (num_samples)"
   ]
  },
  {
   "cell_type": "code",
   "execution_count": 2,
   "metadata": {},
   "outputs": [],
   "source": [
    "n_class = 10\n",
    "batch_size = 600\n",
    "epoch_limit = 100"
   ]
  },
  {
   "cell_type": "markdown",
   "metadata": {},
   "source": [
    "## Preprocessing"
   ]
  },
  {
   "cell_type": "markdown",
   "metadata": {},
   "source": [
    "Reshape x from (28,28) to (764,)"
   ]
  },
  {
   "cell_type": "code",
   "execution_count": 3,
   "metadata": {},
   "outputs": [],
   "source": [
    "x_train = x_train.reshape(x_train.shape[0], x_train.shape[1] * x_train.shape[2])\n",
    "x_test = x_test.reshape(x_test.shape[0], x_test.shape[1] * x_test.shape[2])"
   ]
  },
  {
   "cell_type": "markdown",
   "metadata": {},
   "source": [
    "Convert training and testing data to float and divide by 255 to make all values range between [0..1]"
   ]
  },
  {
   "cell_type": "code",
   "execution_count": 4,
   "metadata": {},
   "outputs": [],
   "source": [
    "x_train = x_train.astype('float32')\n",
    "x_test = x_test.astype('float32')\n",
    "x_train /= 255\n",
    "x_test /= 255"
   ]
  },
  {
   "cell_type": "markdown",
   "metadata": {},
   "source": [
    "One-hot encoding for training and testing labels based on number of possible classes.\n",
    "\n",
    "Example: 5 => (0, 0, 0, 0, 0, 1, 0, 0, 0, 0)"
   ]
  },
  {
   "cell_type": "code",
   "execution_count": 5,
   "metadata": {},
   "outputs": [],
   "source": [
    "import keras\n",
    "\n",
    "y_train = keras.utils.to_categorical(y_train, n_class)\n",
    "y_test = keras.utils.to_categorical(y_test, n_class)"
   ]
  },
  {
   "cell_type": "markdown",
   "metadata": {},
   "source": [
    "## Model\n",
    "\n",
    "Use `Sequential` model from Keras to create multi-layer perceptron"
   ]
  },
  {
   "cell_type": "code",
   "execution_count": 6,
   "metadata": {},
   "outputs": [
    {
     "name": "stdout",
     "output_type": "stream",
     "text": [
      "_________________________________________________________________\n",
      "Layer (type)                 Output Shape              Param #   \n",
      "=================================================================\n",
      "dense_1 (Dense)              (None, 196)               153860    \n",
      "_________________________________________________________________\n",
      "dropout_1 (Dropout)          (None, 196)               0         \n",
      "_________________________________________________________________\n",
      "dense_2 (Dense)              (None, 196)               38612     \n",
      "_________________________________________________________________\n",
      "dropout_2 (Dropout)          (None, 196)               0         \n",
      "_________________________________________________________________\n",
      "dense_3 (Dense)              (None, 98)                19306     \n",
      "_________________________________________________________________\n",
      "dropout_3 (Dropout)          (None, 98)                0         \n",
      "_________________________________________________________________\n",
      "dense_4 (Dense)              (None, 10)                990       \n",
      "=================================================================\n",
      "Total params: 212,768\n",
      "Trainable params: 212,768\n",
      "Non-trainable params: 0\n",
      "_________________________________________________________________\n"
     ]
    }
   ],
   "source": [
    "from keras.models import Sequential\n",
    "from keras.layers import Dense, Dropout\n",
    "from keras import backend as K\n",
    "\n",
    "model = Sequential()\n",
    "model.add(Dense(196,\n",
    "                activation='relu',\n",
    "                kernel_initializer='he_uniform',\n",
    "                input_shape=(784,)))\n",
    "model.add(Dropout(0.2))\n",
    "model.add(Dense(196,\n",
    "                activation='relu',\n",
    "                kernel_initializer='he_uniform'))\n",
    "model.add(Dropout(0.2))\n",
    "model.add(Dense(98,\n",
    "                activation='relu',\n",
    "                kernel_initializer='he_uniform'))\n",
    "model.add(Dropout(0.1))\n",
    "model.add(Dense(n_class,\n",
    "                activation='softmax',\n",
    "                kernel_initializer='glorot_normal'))\n",
    "\n",
    "model.summary()"
   ]
  },
  {
   "cell_type": "markdown",
   "metadata": {},
   "source": [
    "Weight initialization algorithm is determined by `kernel_initializer` param.\n",
    "- `he_uniform` for layers with `relu` activation\n",
    "- `glorot_normal` or _xavier_ for layers with `softmax` activation\n",
    "\n",
    "This is chosen because on the research paper, _he_ focuses on relu and _xavier glorot_ focuses on sigmoid and softmax."
   ]
  },
  {
   "cell_type": "markdown",
   "metadata": {},
   "source": [
    "## Optimizers"
   ]
  },
  {
   "cell_type": "markdown",
   "metadata": {},
   "source": [
    "Tested with two optimizers, adam and sgd, with adam winning by 1% increase in accuracy."
   ]
  },
  {
   "cell_type": "code",
   "execution_count": 7,
   "metadata": {},
   "outputs": [],
   "source": [
    "from keras import optimizers\n",
    "\n",
    "adam = optimizers.Adam(lr=0.001,\n",
    "                       beta_1=0.9,\n",
    "                       beta_2=0.999,\n",
    "                       epsilon=None,\n",
    "                       decay=0.00001,\n",
    "                       amsgrad=False)\n",
    "\n",
    "sgd = optimizers.SGD(lr=0.001,\n",
    "                     momentum=0.001,\n",
    "                     decay=0.00001,\n",
    "                     nesterov=False)"
   ]
  },
  {
   "cell_type": "markdown",
   "metadata": {},
   "source": [
    "A higher value of learning rate (e.g. 0.1) will result in the model failing to converge."
   ]
  },
  {
   "cell_type": "markdown",
   "metadata": {},
   "source": [
    "## Training"
   ]
  },
  {
   "cell_type": "code",
   "execution_count": 8,
   "metadata": {},
   "outputs": [
    {
     "name": "stdout",
     "output_type": "stream",
     "text": [
      "WARNING:tensorflow:Variable *= will be deprecated. Use variable.assign_mul if you want assignment to the variable value or 'x = x * y' if you want a new python Tensor object.\n",
      "Train on 60000 samples, validate on 10000 samples\n",
      "Epoch 1/100\n",
      "60000/60000 [==============================] - 6s 103us/step - loss: 0.6240 - acc: 0.8045 - val_loss: 0.1981 - val_acc: 0.9406\n",
      "Epoch 2/100\n",
      "60000/60000 [==============================] - 2s 41us/step - loss: 0.2194 - acc: 0.9354 - val_loss: 0.1305 - val_acc: 0.9600\n",
      "Epoch 3/100\n",
      "60000/60000 [==============================] - 2s 41us/step - loss: 0.1580 - acc: 0.9521 - val_loss: 0.1079 - val_acc: 0.9658\n",
      "Epoch 4/100\n",
      "60000/60000 [==============================] - 3s 44us/step - loss: 0.1281 - acc: 0.9617 - val_loss: 0.0903 - val_acc: 0.9713\n",
      "Epoch 5/100\n",
      "60000/60000 [==============================] - 3s 42us/step - loss: 0.1046 - acc: 0.9678 - val_loss: 0.0839 - val_acc: 0.9735\n",
      "Epoch 6/100\n",
      "60000/60000 [==============================] - 3s 45us/step - loss: 0.0912 - acc: 0.9723 - val_loss: 0.0824 - val_acc: 0.9737\n",
      "Epoch 7/100\n",
      "60000/60000 [==============================] - 3s 46us/step - loss: 0.0819 - acc: 0.9746 - val_loss: 0.0756 - val_acc: 0.9768\n",
      "Epoch 8/100\n",
      "60000/60000 [==============================] - 2s 41us/step - loss: 0.0765 - acc: 0.9763 - val_loss: 0.0788 - val_acc: 0.9762\n",
      "Epoch 9/100\n",
      "60000/60000 [==============================] - 2s 41us/step - loss: 0.0640 - acc: 0.9794 - val_loss: 0.0740 - val_acc: 0.9783\n",
      "Epoch 10/100\n",
      "60000/60000 [==============================] - 2s 42us/step - loss: 0.0588 - acc: 0.9813 - val_loss: 0.0708 - val_acc: 0.9779\n",
      "Epoch 11/100\n",
      "60000/60000 [==============================] - 2s 39us/step - loss: 0.0546 - acc: 0.9827 - val_loss: 0.0709 - val_acc: 0.9797\n",
      "Epoch 12/100\n",
      "60000/60000 [==============================] - 2s 37us/step - loss: 0.0481 - acc: 0.9844 - val_loss: 0.0747 - val_acc: 0.9792\n",
      "Epoch 13/100\n",
      "60000/60000 [==============================] - 2s 38us/step - loss: 0.0477 - acc: 0.9850 - val_loss: 0.0707 - val_acc: 0.9799\n",
      "Epoch 14/100\n",
      "60000/60000 [==============================] - 2s 38us/step - loss: 0.0425 - acc: 0.9859 - val_loss: 0.0730 - val_acc: 0.9806\n",
      "Epoch 15/100\n",
      "60000/60000 [==============================] - 2s 38us/step - loss: 0.0397 - acc: 0.9872 - val_loss: 0.0732 - val_acc: 0.9797\n",
      "Epoch 16/100\n",
      "60000/60000 [==============================] - 2s 39us/step - loss: 0.0353 - acc: 0.9884 - val_loss: 0.0732 - val_acc: 0.9805\n",
      "Epoch 17/100\n",
      "60000/60000 [==============================] - 3s 42us/step - loss: 0.0344 - acc: 0.9885 - val_loss: 0.0702 - val_acc: 0.9808\n",
      "Epoch 18/100\n",
      "60000/60000 [==============================] - 3s 48us/step - loss: 0.0323 - acc: 0.9892 - val_loss: 0.0720 - val_acc: 0.9813\n",
      "Epoch 19/100\n",
      "60000/60000 [==============================] - 2s 38us/step - loss: 0.0309 - acc: 0.9900 - val_loss: 0.0716 - val_acc: 0.9814\n",
      "Epoch 20/100\n",
      "60000/60000 [==============================] - 2s 38us/step - loss: 0.0285 - acc: 0.9907 - val_loss: 0.0732 - val_acc: 0.9813\n",
      "Epoch 21/100\n",
      "60000/60000 [==============================] - 3s 43us/step - loss: 0.0282 - acc: 0.9908 - val_loss: 0.0839 - val_acc: 0.9783\n",
      "Epoch 22/100\n",
      "60000/60000 [==============================] - 3s 42us/step - loss: 0.0250 - acc: 0.9916 - val_loss: 0.0761 - val_acc: 0.9809\n",
      "Epoch 23/100\n",
      "60000/60000 [==============================] - 2s 38us/step - loss: 0.0256 - acc: 0.9915 - val_loss: 0.0724 - val_acc: 0.9806\n",
      "Epoch 24/100\n",
      "60000/60000 [==============================] - 2s 38us/step - loss: 0.0253 - acc: 0.9918 - val_loss: 0.0738 - val_acc: 0.9819\n",
      "Epoch 25/100\n",
      "60000/60000 [==============================] - 2s 40us/step - loss: 0.0238 - acc: 0.9923 - val_loss: 0.0727 - val_acc: 0.9814\n",
      "Epoch 26/100\n",
      "60000/60000 [==============================] - 2s 38us/step - loss: 0.0207 - acc: 0.9931 - val_loss: 0.0750 - val_acc: 0.9809\n",
      "Epoch 27/100\n",
      "60000/60000 [==============================] - 2s 38us/step - loss: 0.0218 - acc: 0.9927 - val_loss: 0.0718 - val_acc: 0.9826\n",
      "Epoch 28/100\n",
      "60000/60000 [==============================] - 2s 38us/step - loss: 0.0202 - acc: 0.9933 - val_loss: 0.0795 - val_acc: 0.9816\n",
      "Epoch 29/100\n",
      "60000/60000 [==============================] - 2s 38us/step - loss: 0.0218 - acc: 0.9927 - val_loss: 0.0777 - val_acc: 0.9815\n",
      "Epoch 30/100\n",
      "60000/60000 [==============================] - 2s 38us/step - loss: 0.0198 - acc: 0.9933 - val_loss: 0.0731 - val_acc: 0.9826\n",
      "Epoch 31/100\n",
      "60000/60000 [==============================] - 2s 38us/step - loss: 0.0204 - acc: 0.9932 - val_loss: 0.0736 - val_acc: 0.9823\n",
      "Epoch 32/100\n",
      "60000/60000 [==============================] - 2s 38us/step - loss: 0.0159 - acc: 0.9947 - val_loss: 0.0820 - val_acc: 0.9810\n",
      "Epoch 33/100\n",
      "60000/60000 [==============================] - 2s 39us/step - loss: 0.0182 - acc: 0.9941 - val_loss: 0.0743 - val_acc: 0.9821\n",
      "Epoch 34/100\n",
      "60000/60000 [==============================] - 2s 39us/step - loss: 0.0171 - acc: 0.9944 - val_loss: 0.0772 - val_acc: 0.9808\n",
      "Epoch 35/100\n",
      "60000/60000 [==============================] - 2s 41us/step - loss: 0.0175 - acc: 0.9941 - val_loss: 0.0778 - val_acc: 0.9819\n",
      "Epoch 36/100\n",
      "60000/60000 [==============================] - 3s 43us/step - loss: 0.0162 - acc: 0.9949 - val_loss: 0.0794 - val_acc: 0.9812\n",
      "Epoch 37/100\n",
      "60000/60000 [==============================] - 2s 38us/step - loss: 0.0164 - acc: 0.9945 - val_loss: 0.0822 - val_acc: 0.9812\n",
      "Epoch 38/100\n",
      "60000/60000 [==============================] - 2s 39us/step - loss: 0.0168 - acc: 0.9943 - val_loss: 0.0852 - val_acc: 0.9815\n",
      "Epoch 39/100\n",
      "60000/60000 [==============================] - 2s 39us/step - loss: 0.0149 - acc: 0.9952 - val_loss: 0.0756 - val_acc: 0.9833\n",
      "Epoch 40/100\n",
      "60000/60000 [==============================] - 2s 39us/step - loss: 0.0137 - acc: 0.9955 - val_loss: 0.0819 - val_acc: 0.9824\n",
      "Epoch 41/100\n",
      "60000/60000 [==============================] - 2s 39us/step - loss: 0.0147 - acc: 0.9950 - val_loss: 0.0831 - val_acc: 0.9818\n",
      "Epoch 42/100\n",
      "60000/60000 [==============================] - 2s 39us/step - loss: 0.0134 - acc: 0.9955 - val_loss: 0.0793 - val_acc: 0.9828\n",
      "Epoch 43/100\n",
      "60000/60000 [==============================] - 2s 39us/step - loss: 0.0157 - acc: 0.9948 - val_loss: 0.0822 - val_acc: 0.9820\n",
      "Epoch 44/100\n",
      "60000/60000 [==============================] - 2s 39us/step - loss: 0.0146 - acc: 0.9952 - val_loss: 0.0816 - val_acc: 0.9832\n",
      "Epoch 45/100\n",
      "60000/60000 [==============================] - 2s 39us/step - loss: 0.0151 - acc: 0.9947 - val_loss: 0.0812 - val_acc: 0.9829\n",
      "Epoch 46/100\n",
      "60000/60000 [==============================] - 2s 39us/step - loss: 0.0133 - acc: 0.9955 - val_loss: 0.0797 - val_acc: 0.9833\n",
      "Epoch 47/100\n",
      "60000/60000 [==============================] - 2s 41us/step - loss: 0.0135 - acc: 0.9955 - val_loss: 0.0796 - val_acc: 0.9826\n",
      "Epoch 48/100\n",
      "60000/60000 [==============================] - 2s 40us/step - loss: 0.0130 - acc: 0.9954 - val_loss: 0.0794 - val_acc: 0.9826\n",
      "Epoch 49/100\n",
      "60000/60000 [==============================] - 3s 43us/step - loss: 0.0125 - acc: 0.9959 - val_loss: 0.0776 - val_acc: 0.9837\n",
      "Epoch 50/100\n",
      "60000/60000 [==============================] - 2s 41us/step - loss: 0.0113 - acc: 0.9962 - val_loss: 0.0827 - val_acc: 0.9826\n",
      "Epoch 51/100\n",
      "60000/60000 [==============================] - 2s 39us/step - loss: 0.0122 - acc: 0.9958 - val_loss: 0.0827 - val_acc: 0.9821\n",
      "Epoch 52/100\n",
      "60000/60000 [==============================] - 2s 40us/step - loss: 0.0130 - acc: 0.9957 - val_loss: 0.0841 - val_acc: 0.9825\n",
      "Epoch 53/100\n",
      "60000/60000 [==============================] - 2s 39us/step - loss: 0.0134 - acc: 0.9956 - val_loss: 0.0834 - val_acc: 0.9812\n",
      "Epoch 54/100\n",
      "60000/60000 [==============================] - 2s 39us/step - loss: 0.0133 - acc: 0.9959 - val_loss: 0.0814 - val_acc: 0.9837\n",
      "Epoch 55/100\n",
      "60000/60000 [==============================] - 2s 39us/step - loss: 0.0115 - acc: 0.9964 - val_loss: 0.0834 - val_acc: 0.9826\n",
      "Epoch 56/100\n",
      "60000/60000 [==============================] - 2s 41us/step - loss: 0.0119 - acc: 0.9963 - val_loss: 0.0905 - val_acc: 0.9809\n",
      "Epoch 57/100\n",
      "60000/60000 [==============================] - 2s 41us/step - loss: 0.0122 - acc: 0.9961 - val_loss: 0.0827 - val_acc: 0.9830\n",
      "Epoch 58/100\n",
      "60000/60000 [==============================] - 2s 38us/step - loss: 0.0113 - acc: 0.9964 - val_loss: 0.0856 - val_acc: 0.9822\n",
      "Epoch 59/100\n",
      "60000/60000 [==============================] - 2s 38us/step - loss: 0.0106 - acc: 0.9967 - val_loss: 0.0830 - val_acc: 0.9830\n",
      "Epoch 60/100\n",
      "60000/60000 [==============================] - 2s 41us/step - loss: 0.0103 - acc: 0.9967 - val_loss: 0.0911 - val_acc: 0.9830\n",
      "Epoch 61/100\n",
      "60000/60000 [==============================] - 2s 39us/step - loss: 0.0103 - acc: 0.9966 - val_loss: 0.0847 - val_acc: 0.9821\n",
      "Epoch 62/100\n",
      "60000/60000 [==============================] - 2s 39us/step - loss: 0.0101 - acc: 0.9966 - val_loss: 0.0830 - val_acc: 0.9827\n",
      "Epoch 63/100\n",
      "60000/60000 [==============================] - 2s 39us/step - loss: 0.0106 - acc: 0.9966 - val_loss: 0.0841 - val_acc: 0.9825\n",
      "Epoch 64/100\n",
      "60000/60000 [==============================] - 2s 39us/step - loss: 0.0093 - acc: 0.9965 - val_loss: 0.0838 - val_acc: 0.9829\n",
      "Epoch 65/100\n",
      "60000/60000 [==============================] - 2s 39us/step - loss: 0.0108 - acc: 0.9965 - val_loss: 0.0788 - val_acc: 0.9829\n",
      "Epoch 66/100\n",
      "60000/60000 [==============================] - 2s 39us/step - loss: 0.0119 - acc: 0.9963 - val_loss: 0.0890 - val_acc: 0.9829\n",
      "Epoch 67/100\n",
      "60000/60000 [==============================] - 2s 40us/step - loss: 0.0088 - acc: 0.9971 - val_loss: 0.0872 - val_acc: 0.9829\n",
      "Epoch 68/100\n",
      "60000/60000 [==============================] - 2s 40us/step - loss: 0.0096 - acc: 0.9968 - val_loss: 0.0882 - val_acc: 0.9833\n",
      "Epoch 69/100\n",
      "60000/60000 [==============================] - 2s 40us/step - loss: 0.0113 - acc: 0.9964 - val_loss: 0.0884 - val_acc: 0.9829\n",
      "Epoch 70/100\n",
      "60000/60000 [==============================] - 2s 40us/step - loss: 0.0108 - acc: 0.9964 - val_loss: 0.0831 - val_acc: 0.9826\n",
      "Epoch 71/100\n",
      "60000/60000 [==============================] - 2s 41us/step - loss: 0.0113 - acc: 0.9965 - val_loss: 0.0769 - val_acc: 0.9836\n",
      "Epoch 72/100\n",
      "60000/60000 [==============================] - 2s 40us/step - loss: 0.0093 - acc: 0.9969 - val_loss: 0.0792 - val_acc: 0.9841\n",
      "Epoch 73/100\n",
      "60000/60000 [==============================] - 2s 39us/step - loss: 0.0077 - acc: 0.9972 - val_loss: 0.0869 - val_acc: 0.9830\n",
      "Epoch 74/100\n",
      "60000/60000 [==============================] - 2s 39us/step - loss: 0.0092 - acc: 0.9970 - val_loss: 0.0880 - val_acc: 0.9820\n",
      "Epoch 75/100\n",
      "60000/60000 [==============================] - 2s 40us/step - loss: 0.0088 - acc: 0.9972 - val_loss: 0.0885 - val_acc: 0.9825\n",
      "Epoch 76/100\n",
      "60000/60000 [==============================] - 2s 39us/step - loss: 0.0090 - acc: 0.9972 - val_loss: 0.0834 - val_acc: 0.9841\n",
      "Epoch 77/100\n",
      "60000/60000 [==============================] - 2s 40us/step - loss: 0.0105 - acc: 0.9965 - val_loss: 0.0835 - val_acc: 0.9834\n",
      "Epoch 78/100\n",
      "60000/60000 [==============================] - 2s 41us/step - loss: 0.0091 - acc: 0.9971 - val_loss: 0.0798 - val_acc: 0.9843\n",
      "Epoch 79/100\n",
      "60000/60000 [==============================] - 2s 40us/step - loss: 0.0090 - acc: 0.9971 - val_loss: 0.0936 - val_acc: 0.9815\n",
      "Epoch 80/100\n",
      "60000/60000 [==============================] - 2s 40us/step - loss: 0.0078 - acc: 0.9972 - val_loss: 0.0892 - val_acc: 0.9819\n",
      "Epoch 81/100\n",
      "60000/60000 [==============================] - 2s 40us/step - loss: 0.0083 - acc: 0.9975 - val_loss: 0.0932 - val_acc: 0.9826\n",
      "Epoch 82/100\n",
      "60000/60000 [==============================] - 2s 41us/step - loss: 0.0089 - acc: 0.9973 - val_loss: 0.0872 - val_acc: 0.9840\n",
      "Epoch 83/100\n",
      "60000/60000 [==============================] - 2s 39us/step - loss: 0.0087 - acc: 0.9972 - val_loss: 0.0943 - val_acc: 0.9821\n",
      "Epoch 84/100\n",
      "60000/60000 [==============================] - 2s 41us/step - loss: 0.0077 - acc: 0.9977 - val_loss: 0.0882 - val_acc: 0.9830\n",
      "Epoch 85/100\n",
      "60000/60000 [==============================] - 2s 39us/step - loss: 0.0087 - acc: 0.9974 - val_loss: 0.0870 - val_acc: 0.9819\n",
      "Epoch 86/100\n",
      "60000/60000 [==============================] - 2s 41us/step - loss: 0.0083 - acc: 0.9973 - val_loss: 0.0893 - val_acc: 0.9829\n",
      "Epoch 87/100\n",
      "60000/60000 [==============================] - 2s 40us/step - loss: 0.0078 - acc: 0.9973 - val_loss: 0.0895 - val_acc: 0.9829\n",
      "Epoch 88/100\n",
      "60000/60000 [==============================] - 3s 43us/step - loss: 0.0098 - acc: 0.9970 - val_loss: 0.0765 - val_acc: 0.9835\n",
      "Epoch 89/100\n",
      "60000/60000 [==============================] - 3s 42us/step - loss: 0.0071 - acc: 0.9976 - val_loss: 0.0860 - val_acc: 0.9835\n",
      "Epoch 90/100\n",
      "60000/60000 [==============================] - 3s 44us/step - loss: 0.0085 - acc: 0.9971 - val_loss: 0.0830 - val_acc: 0.9840\n",
      "Epoch 91/100\n",
      "60000/60000 [==============================] - 2s 41us/step - loss: 0.0076 - acc: 0.9975 - val_loss: 0.0793 - val_acc: 0.9853\n",
      "Epoch 92/100\n",
      "60000/60000 [==============================] - 2s 41us/step - loss: 0.0066 - acc: 0.9978 - val_loss: 0.0819 - val_acc: 0.9840\n",
      "Epoch 93/100\n",
      "60000/60000 [==============================] - 2s 41us/step - loss: 0.0090 - acc: 0.9972 - val_loss: 0.0890 - val_acc: 0.9833\n",
      "Epoch 94/100\n",
      "60000/60000 [==============================] - 3s 43us/step - loss: 0.0061 - acc: 0.9980 - val_loss: 0.0846 - val_acc: 0.9843\n",
      "Epoch 95/100\n",
      "60000/60000 [==============================] - 2s 41us/step - loss: 0.0073 - acc: 0.9976 - val_loss: 0.0854 - val_acc: 0.9836\n",
      "Epoch 96/100\n",
      "60000/60000 [==============================] - 2s 41us/step - loss: 0.0076 - acc: 0.9977 - val_loss: 0.0780 - val_acc: 0.9851\n",
      "Epoch 97/100\n",
      "60000/60000 [==============================] - 3s 42us/step - loss: 0.0072 - acc: 0.9976 - val_loss: 0.0889 - val_acc: 0.9841\n",
      "Epoch 98/100\n",
      "60000/60000 [==============================] - 2s 41us/step - loss: 0.0081 - acc: 0.9971 - val_loss: 0.0833 - val_acc: 0.9843\n",
      "Epoch 99/100\n",
      "60000/60000 [==============================] - 3s 42us/step - loss: 0.0093 - acc: 0.9970 - val_loss: 0.0861 - val_acc: 0.9833\n",
      "Epoch 100/100\n",
      "60000/60000 [==============================] - 3s 43us/step - loss: 0.0080 - acc: 0.9974 - val_loss: 0.0847 - val_acc: 0.9822\n"
     ]
    },
    {
     "data": {
      "text/plain": [
       "<keras.callbacks.History at 0x7fb419ade940>"
      ]
     },
     "execution_count": 8,
     "metadata": {},
     "output_type": "execute_result"
    }
   ],
   "source": [
    "model.compile(optimizer=adam,\n",
    "              loss='categorical_crossentropy',\n",
    "              metrics=['accuracy'])\n",
    "\n",
    "model.fit(x_train, y_train,\n",
    "          batch_size=batch_size,\n",
    "          epochs=epoch_limit,\n",
    "          verbose=1,\n",
    "          validation_data=(x_test, y_test))"
   ]
  },
  {
   "cell_type": "markdown",
   "metadata": {},
   "source": [
    "## Testing Scores"
   ]
  },
  {
   "cell_type": "code",
   "execution_count": 9,
   "metadata": {},
   "outputs": [
    {
     "name": "stdout",
     "output_type": "stream",
     "text": [
      "10000/10000 [==============================] - 1s 55us/step\n",
      "Test Loss = 0.08469229024424053, Test Accuracy = 0.9822\n"
     ]
    }
   ],
   "source": [
    "score = model.evaluate(x_test, y_test,\n",
    "                       verbose=1)\n",
    "\n",
    "print('Test Loss = {}, Test Accuracy = {}'.format(score[0], score[1]))"
   ]
  }
 ],
 "metadata": {
  "kernelspec": {
   "display_name": "Python 3",
   "language": "python",
   "name": "python3"
  },
  "language_info": {
   "codemirror_mode": {
    "name": "ipython",
    "version": 3
   },
   "file_extension": ".py",
   "mimetype": "text/x-python",
   "name": "python",
   "nbconvert_exporter": "python",
   "pygments_lexer": "ipython3",
   "version": "3.5.2"
  }
 },
 "nbformat": 4,
 "nbformat_minor": 2
}
